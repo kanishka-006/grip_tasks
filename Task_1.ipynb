{
  "nbformat": 4,
  "nbformat_minor": 0,
  "metadata": {
    "colab": {
      "name": "Task_1.ipynb",
      "provenance": [],
      "collapsed_sections": [],
      "toc_visible": true,
      "authorship_tag": "ABX9TyN3cSalNRdAeCBVXdilF/vy",
      "include_colab_link": true
    },
    "kernelspec": {
      "name": "python3",
      "display_name": "Python 3"
    },
    "language_info": {
      "name": "python"
    }
  },
  "cells": [
    {
      "cell_type": "markdown",
      "metadata": {
        "id": "view-in-github",
        "colab_type": "text"
      },
      "source": [
        "<a href=\"https://colab.research.google.com/github/kanishka-006/grip_tasks/blob/main/Task_1.ipynb\" target=\"_parent\"><img src=\"https://colab.research.google.com/assets/colab-badge.svg\" alt=\"Open In Colab\"/></a>"
      ]
    },
    {
      "cell_type": "markdown",
      "source": [
        "**Hello Everyone!!**\n",
        "\n",
        "My name is ***Kanishka***\n",
        "\n",
        "Currently pursuing my btech from IIT,Roorkee\n"
      ],
      "metadata": {
        "id": "CAZo6MDgvpYo"
      }
    },
    {
      "cell_type": "code",
      "source": [
        "import numpy as np\n",
        "import pandas as pd"
      ],
      "metadata": {
        "id": "J8lYHSk2x-Jo"
      },
      "execution_count": 1,
      "outputs": []
    },
    {
      "cell_type": "code",
      "source": [
        "URL=\"http://bit.ly/w-data\"\n",
        "data=pd.read_csv(URL)"
      ],
      "metadata": {
        "id": "UooGK13l0QJs"
      },
      "execution_count": 2,
      "outputs": []
    },
    {
      "cell_type": "code",
      "source": [
        "print(data)"
      ],
      "metadata": {
        "colab": {
          "base_uri": "https://localhost:8080/"
        },
        "id": "-VCyQQaQ0ieu",
        "outputId": "ad2774a1-cd59-4c70-e786-02732feaee38"
      },
      "execution_count": 3,
      "outputs": [
        {
          "output_type": "stream",
          "name": "stdout",
          "text": [
            "    Hours  Scores\n",
            "0     2.5      21\n",
            "1     5.1      47\n",
            "2     3.2      27\n",
            "3     8.5      75\n",
            "4     3.5      30\n",
            "5     1.5      20\n",
            "6     9.2      88\n",
            "7     5.5      60\n",
            "8     8.3      81\n",
            "9     2.7      25\n",
            "10    7.7      85\n",
            "11    5.9      62\n",
            "12    4.5      41\n",
            "13    3.3      42\n",
            "14    1.1      17\n",
            "15    8.9      95\n",
            "16    2.5      30\n",
            "17    1.9      24\n",
            "18    6.1      67\n",
            "19    7.4      69\n",
            "20    2.7      30\n",
            "21    4.8      54\n",
            "22    3.8      35\n",
            "23    6.9      76\n",
            "24    7.8      86\n"
          ]
        }
      ]
    },
    {
      "cell_type": "code",
      "source": [
        "import matplotlib.pyplot as plt\n",
        "%matplotlib inline"
      ],
      "metadata": {
        "id": "RrSBFzSE0kaS"
      },
      "execution_count": 4,
      "outputs": []
    },
    {
      "cell_type": "code",
      "source": [
        "#scatter plot using matplotlib.pyplot \n",
        "plt.scatter(data.Hours,data.Scores)\n",
        "plt.xlabel(\"hours\")\n",
        "plt.ylabel(\"Scores\")\n",
        "plt.title(\"Analyze the relation between x and y\")"
      ],
      "metadata": {
        "colab": {
          "base_uri": "https://localhost:8080/",
          "height": 312
        },
        "id": "o7A6IcWY0rHg",
        "outputId": "c7eb6714-179b-4a62-e7ed-4ea42a74345c"
      },
      "execution_count": 5,
      "outputs": [
        {
          "output_type": "execute_result",
          "data": {
            "text/plain": [
              "Text(0.5, 1.0, 'Analyze the relation between x and y')"
            ]
          },
          "metadata": {},
          "execution_count": 5
        },
        {
          "output_type": "display_data",
          "data": {
            "image/png": "[encoded data removed]",
            "text/plain": [
              "<Figure size 432x288 with 1 Axes>"
            ]
          },
          "metadata": {
            "needs_background": "light"
          }
        }
      ]
    },
    {
      "cell_type": "code",
      "source": [
        "print(np.mean(data.Hours))\n",
        "print(np.mean(data.Scores))"
      ],
      "metadata": {
        "colab": {
          "base_uri": "https://localhost:8080/"
        },
        "id": "74IIMtT12UVV",
        "outputId": "a2dc8034-dc79-4674-c44c-0086edcbae07"
      },
      "execution_count": 6,
      "outputs": [
        {
          "output_type": "stream",
          "name": "stdout",
          "text": [
            "5.012\n",
            "51.48\n"
          ]
        }
      ]
    },
    {
      "cell_type": "code",
      "source": [
        "np.random.seed(10)\n",
        "sh_indices = np.random.permutation(len(data.Hours))\n",
        "X=data.Hours[sh_indices]\n",
        "Y=data.Scores[sh_indices]"
      ],
      "metadata": {
        "id": "pNpLFL7r6nFI"
      },
      "execution_count": 7,
      "outputs": []
    },
    {
      "cell_type": "code",
      "source": [
        "def data_split(x,y,tpct=0.1):\n",
        "  t_value= int(tpct*x.size)\n",
        "  x_test,y_test=np.array(x[:t_value]),np.array(y[:t_value])\n",
        "  x_train,y_train=np.array(x[t_value:]),np.array(y[t_value:])\n",
        "  return x_train,y_train,x_test,y_test"
      ],
      "metadata": {
        "id": "H2Q7wLit3u_2"
      },
      "execution_count": 8,
      "outputs": []
    },
    {
      "cell_type": "code",
      "source": [
        "x_train,y_train,x_test,y_test = data_split(X,Y)"
      ],
      "metadata": {
        "id": "ii1GHgUg8NZj"
      },
      "execution_count": 9,
      "outputs": []
    },
    {
      "cell_type": "code",
      "source": [
        "x_train = x_train.reshape((x_train.shape[0], 1))\n",
        "x_test = x_test.reshape((x_test.shape[0], 1))"
      ],
      "metadata": {
        "id": "r1_fpc86DL5t"
      },
      "execution_count": 10,
      "outputs": []
    },
    {
      "cell_type": "code",
      "source": [
        "print(x_train.shape)\n",
        "print(x_test.shape)"
      ],
      "metadata": {
        "colab": {
          "base_uri": "https://localhost:8080/"
        },
        "id": "gKxvDzXZ8XLX",
        "outputId": "2e0d48ba-4e57-4fec-c571-ccba76f8eda7"
      },
      "execution_count": 11,
      "outputs": [
        {
          "output_type": "stream",
          "name": "stdout",
          "text": [
            "(23, 1)\n",
            "(2, 1)\n"
          ]
        }
      ]
    },
    {
      "cell_type": "code",
      "source": [
        "print(x_test,y_test)\n"
      ],
      "metadata": {
        "colab": {
          "base_uri": "https://localhost:8080/"
        },
        "id": "CXmkdR9QFKje",
        "outputId": "541a3dda-7237-4bf8-9dca-1a4088d352dc"
      },
      "execution_count": 12,
      "outputs": [
        {
          "output_type": "stream",
          "name": "stdout",
          "text": [
            "[[1.5]\n",
            " [5.1]] [20 47]\n"
          ]
        }
      ]
    },
    {
      "cell_type": "code",
      "source": [
        "x_train.shape"
      ],
      "metadata": {
        "colab": {
          "base_uri": "https://localhost:8080/"
        },
        "id": "W6m_k5XjNfcm",
        "outputId": "efc1b330-9a50-4f78-aa6a-adcae9c24359"
      },
      "execution_count": 13,
      "outputs": [
        {
          "output_type": "execute_result",
          "data": {
            "text/plain": [
              "(23, 1)"
            ]
          },
          "metadata": {},
          "execution_count": 13
        }
      ]
    },
    {
      "cell_type": "code",
      "source": [
        "from sklearn.linear_model import LinearRegression\n",
        "linear_regress=LinearRegression()\n",
        "linear_regress.fit(x_train,y_train)\n",
        "print(\"training sucessful\")"
      ],
      "metadata": {
        "colab": {
          "base_uri": "https://localhost:8080/"
        },
        "id": "qy5aHRxSBtcG",
        "outputId": "9d7efa42-6e20-4a20-e723-c2bbc7264643"
      },
      "execution_count": 14,
      "outputs": [
        {
          "output_type": "stream",
          "name": "stdout",
          "text": [
            "training sucessful\n"
          ]
        }
      ]
    },
    {
      "cell_type": "code",
      "source": [
        "y_pred=linear_regress.predict(x_train)\n",
        "plt.scatter(x_train,y_train)\n",
        "plt.plot(x_train,y_pred,'r')\n",
        "plt.plot(x_train,y_pred,'rx') #add the prediction points \n",
        "for i in range(len(x_train)):\n",
        "        lineXdata = (x_train[i], x_train[i]) # same X\n",
        "        lineYdata = (y_train[i], y_pred[i]) # different Y\n",
        "        plt.plot(lineXdata, lineYdata)\n",
        "plt.show()"
      ],
      "metadata": {
        "colab": {
          "base_uri": "https://localhost:8080/",
          "height": 265
        },
        "id": "QIFOz2jPCHbV",
        "outputId": "f69c5a1b-92bc-45d8-8ec7-97b59a3b0a1b"
      },
      "execution_count": 15,
      "outputs": [
        {
          "output_type": "display_data",
          "data": {
            "image/png": "[encoded data removed]",
            "text/plain": [
              "<Figure size 432x288 with 1 Axes>"
            ]
          },
          "metadata": {
            "needs_background": "light"
          }
        }
      ]
    },
    {
      "cell_type": "code",
      "source": [
        "y_predt=linear_regress.predict(x_test)\n",
        "y_predt.shape\n"
      ],
      "metadata": {
        "colab": {
          "base_uri": "https://localhost:8080/"
        },
        "id": "OV2t07mhH4ja",
        "outputId": "dab6a671-fe08-4c07-da9a-c189140e245b"
      },
      "execution_count": 16,
      "outputs": [
        {
          "output_type": "execute_result",
          "data": {
            "text/plain": [
              "(2,)"
            ]
          },
          "metadata": {},
          "execution_count": 16
        }
      ]
    },
    {
      "cell_type": "code",
      "source": [
        "plt.plot(x_test,y_test)\n",
        "plt.plot(x_test,y_predt)\n",
        "df = pd.DataFrame({'test_x':x_test.reshape(2),'test_y': y_test.reshape(2), 'Predicted_y': y_predt.reshape(2)}) \n",
        "print(df)\n",
        "plt.show()"
      ],
      "metadata": {
        "colab": {
          "base_uri": "https://localhost:8080/",
          "height": 317
        },
        "id": "hls-6KZ3JARW",
        "outputId": "05fa7504-7394-4fee-eb3b-4e6bece9d20b"
      },
      "execution_count": 17,
      "outputs": [
        {
          "output_type": "stream",
          "name": "stdout",
          "text": [
            "   test_x  test_y  Predicted_y\n",
            "0     1.5      20    16.991290\n",
            "1     5.1      47    52.444036\n"
          ]
        },
        {
          "output_type": "display_data",
          "data": {
            "image/png": "[encoded data removed]",
            "text/plain": [
              "<Figure size 432x288 with 1 Axes>"
            ]
          },
          "metadata": {
            "needs_background": "light"
          }
        }
      ]
    },
    {
      "cell_type": "code",
      "source": [
        "def pred(value):\n",
        "  v_predict=linear_regress.predict(value)\n",
        "  print(\"The prediction for\",value,\"is\",v_predict)\n",
        "  return v_predict"
      ],
      "metadata": {
        "id": "Q5xQzxUNJoS1"
      },
      "execution_count": 18,
      "outputs": []
    },
    {
      "cell_type": "code",
      "source": [
        "hr=np.array(9.25)\n",
        "hr=hr.reshape(-1,1)\n",
        "v_predict=pred(hr)\n",
        "print(v_predict)"
      ],
      "metadata": {
        "colab": {
          "base_uri": "https://localhost:8080/"
        },
        "id": "vzwccz_3MyTN",
        "outputId": "ce0a87bd-8604-4aaf-a6d9-ac715a91a594"
      },
      "execution_count": 19,
      "outputs": [
        {
          "output_type": "stream",
          "name": "stdout",
          "text": [
            "The prediction for [[9.25]] is [93.31317269]\n",
            "[93.31317269]\n"
          ]
        }
      ]
    },
    {
      "cell_type": "code",
      "source": [
        "from sklearn import metrics  \n",
        "print('Mean Absolute Error:',metrics.mean_absolute_error(y_test, y_predt)) "
      ],
      "metadata": {
        "colab": {
          "base_uri": "https://localhost:8080/"
        },
        "id": "SlvHYayzM5Aj",
        "outputId": "d7b8a2a2-24cc-45da-86a5-3467f81bac22"
      },
      "execution_count": 20,
      "outputs": [
        {
          "output_type": "stream",
          "name": "stdout",
          "text": [
            "Mean Absolute Error: 4.226372665181984\n"
          ]
        }
      ]
    }
  ]
}